{
 "cells": [
  {
   "cell_type": "code",
   "execution_count": 28,
   "id": "b352fb5d-6f29-4500-b996-6326f935410f",
   "metadata": {},
   "outputs": [],
   "source": [
    "R = quotient(quotient(ZZ,4096*ZZ)[x], x^24-1)"
   ]
  },
  {
   "cell_type": "code",
   "execution_count": 29,
   "id": "a7dd82ed-6bf3-495f-ba80-72e852168de9",
   "metadata": {},
   "outputs": [],
   "source": [
    "maxi = 200\n",
    "coeff_a  = [randint(0, maxi) for i in range(24)];\n",
    "coeff_b  = [randint(0, maxi) for i in range(24)];\n",
    "\n",
    "a,b = 0,0\n",
    "\n",
    "for i in range(24):\n",
    "    a += coeff_a[i]*x^i\n",
    "    b += coeff_b[i]*x^i"
   ]
  },
  {
   "cell_type": "code",
   "execution_count": 30,
   "id": "171a5e64-0006-4477-8273-753b583ae0fa",
   "metadata": {},
   "outputs": [
    {
     "name": "stdout",
     "output_type": "stream",
     "text": [
      "[159, 29, 43, 155, 152, 71, 188, 7, 167, 68, 191, 63, 186, 148, 30, 90, 74, 193, 37, 54, 143, 90, 5, 185]\n",
      "[30, 123, 92, 177, 58, 113, 151, 200, 151, 25, 62, 27, 8, 165, 29, 26, 53, 71, 199, 1, 136, 50, 48, 46]\n"
     ]
    }
   ],
   "source": [
    "print(coeff_a)\n",
    "print(coeff_b)"
   ]
  },
  {
   "cell_type": "code",
   "execution_count": 31,
   "id": "09dc3d81-89ad-4d20-8a30-159a800e98a9",
   "metadata": {},
   "outputs": [],
   "source": [
    "c = R(a*b);c"
   ]
  }
 ],
 "metadata": {
  "kernelspec": {
   "display_name": "SageMath 10.2",
   "language": "sage",
   "name": "sagemath-10.2"
  },
  "language_info": {
   "codemirror_mode": {
    "name": "ipython",
    "version": 3
   },
   "file_extension": ".py",
   "mimetype": "text/x-python",
   "name": "python",
   "nbconvert_exporter": "python",
   "pygments_lexer": "ipython3",
   "version": "3.11.1"
  }
 },
 "nbformat": 4,
 "nbformat_minor": 5
}
